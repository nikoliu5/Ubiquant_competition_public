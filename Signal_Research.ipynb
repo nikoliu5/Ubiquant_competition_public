{
 "cells": [
  {
   "cell_type": "markdown",
   "metadata": {},
   "source": [
    "# Machine Learning Analysis for Ubiquant Competition"
   ]
  },
  {
   "cell_type": "code",
   "execution_count": 233,
   "metadata": {},
   "outputs": [],
   "source": [
    "import pandas as pd\n",
    "import numpy as np\n",
    "import matplotlib.pyplot as plt\n",
    "import os\n",
    "from datetime import datetime, timedelta\n",
    "import lightgbm as lgb\n",
    "from sklearn.model_selection import train_test_split\n",
    "from sklearn.metrics import accuracy_score, classification_report\n",
    "\n",
    "from sklearn.model_selection import TimeSeriesSplit, GridSearchCV\n",
    "from sklearn.ensemble import RandomForestClassifier\n",
    "from sklearn.pipeline import Pipeline\n",
    "from sklearn.preprocessing import StandardScaler\n",
    "# from imblearn.over_sampling import SMOTE\n",
    "import numba as nb\n",
    "\n",
    "\n",
    "import warnings\n",
    "warnings.simplefilter(action='ignore', category=FutureWarning)\n",
    "pd.set_option('display.max_columns', None)"
   ]
  },
  {
   "cell_type": "markdown",
   "metadata": {},
   "source": [
    "## Preprocessing data"
   ]
  },
  {
   "cell_type": "code",
   "execution_count": 234,
   "metadata": {},
   "outputs": [],
   "source": [
    "stockname = 'UBIQ010'\n",
    "\n",
    "path = 'dataset/1/'\n",
    "df = pd.read_csv(path + f'{stockname}.csv')\n",
    "start_datetime = datetime(2023, 1, 1)\n",
    "df['DateTime'] = df['LocalTime'].apply(lambda x: start_datetime + timedelta(seconds=x))\n",
    "df.set_index('DateTime', inplace=True)\n",
    "\n",
    "for i in range(2,11):\n",
    "    path = 'dataset/' + str(i) + '/'\n",
    "    data = pd.read_csv(path + f'{stockname}.csv')\n",
    "    start_datetime = datetime(2023, 1, i)\n",
    "    data['DateTime'] = data['LocalTime'].apply(lambda x: start_datetime + timedelta(seconds=x))\n",
    "    data.set_index('DateTime', inplace=True)\n",
    "    df = pd.concat([df, data], axis=0)\n",
    "\n",
    "\n",
    "file_list = os.listdir(path)\n",
    "file_list = [file for file in file_list if file.endswith('.csv')]"
   ]
  },
  {
   "cell_type": "code",
   "execution_count": 235,
   "metadata": {},
   "outputs": [],
   "source": [
    "df['MidPrice'] = (df['BidPrice1'] + df['AskPrice1']) / 2\n",
    "df['W_Mid_Price'] = (df['BidPrice1'] * df['AskVolume1'] + df['AskPrice1'] * df['BidVolume1']) / (df['BidVolume1'] + df['AskVolume1'])\n",
    "df['Volume'] = df['TradeVolume'].diff()\n",
    "df.columns = [col if not col.endswith('A') else col[:-1] + '10' for col in df.columns]"
   ]
  },
  {
   "cell_type": "code",
   "execution_count": 236,
   "metadata": {},
   "outputs": [],
   "source": [
    "df['return'] = df['MidPrice'].pct_change()\n",
    "df['log_return'] = np.log(df['MidPrice'] / df['MidPrice'].shift(1))"
   ]
  },
  {
   "cell_type": "code",
   "execution_count": 237,
   "metadata": {},
   "outputs": [
    {
     "data": {
      "text/plain": [
       "<AxesSubplot:xlabel='DateTime'>"
      ]
     },
     "execution_count": 237,
     "metadata": {},
     "output_type": "execute_result"
    },
    {
     "data": {
      "image/png": "[encoded data removed]",
      "text/plain": [
       "<Figure size 432x288 with 1 Axes>"
      ]
     },
     "metadata": {
      "needs_background": "light"
     },
     "output_type": "display_data"
    }
   ],
   "source": [
    "df['W_Mid_Price'].plot()"
   ]
  },
  {
   "cell_type": "markdown",
   "metadata": {},
   "source": [
    "## Feature Engineering"
   ]
  },
  {
   "cell_type": "code",
   "execution_count": 238,
   "metadata": {},
   "outputs": [],
   "source": [
    "# Spread-based features\n",
    "df['price_vs_mid'] = np.log(df['LastPrice'] / df['MidPrice'])\n",
    "df['spread'] = df['AskPrice1'] - df['BidPrice1']"
   ]
  },
  {
   "cell_type": "code",
   "execution_count": 239,
   "metadata": {},
   "outputs": [],
   "source": [
    "# positive-ratio\n",
    "window_size = 60\n",
    "df['pos_trades'] = (df['LastPrice'] >= df['AskPrice1'].shift(1)).astype(int)\n",
    "df['positive_ratio'] = df['pos_trades'].rolling(window_size).sum() / window_size"
   ]
  },
  {
   "cell_type": "code",
   "execution_count": 240,
   "metadata": {},
   "outputs": [],
   "source": [
    "# Distance-based features\n",
    "# df['ask_distance'] = df['AskPriceA'] - df['AskPrice1']\n",
    "# df['bid_distance'] = df['BidPrice1'] - df['BidPriceA']\n",
    "df['avg_distance_diff'] = (df['BidPrice1'] - df['BidPrice10']) - (df['AskPrice10'] - df['AskPrice1']) * 100"
   ]
  },
  {
   "cell_type": "code",
   "execution_count": 241,
   "metadata": {},
   "outputs": [],
   "source": [
    "# Weighted average amount\n",
    "df['w_bid_amt'] = sum(df[f'BidPrice{i}'] * df[f'BidVolume{i}'] * (1 - (i - 1) / 10) for i in range(1, 11))\n",
    "df['w_ask_amt'] = sum(df[f'AskPrice{i}'] * df[f'AskVolume{i}'] * (1 - (i - 1) / 10) for i in range(1, 11))\n",
    "df['amt_spread_tick'] = np.where((df['w_bid_amt'] + df['w_ask_amt']) > 0, \n",
    "                             (df['w_bid_amt'] - df['w_ask_amt']) / (df['w_bid_amt'] + df['w_ask_amt']), \n",
    "                             0)\n",
    "\n",
    "df['w_bid_amt4'] = sum(df[f'BidPrice{i}'] * df[f'BidVolume{i}'] * (1 - (i - 1) / 4) for i in range(1, 5))\n",
    "df['w_ask_amt4'] = sum(df[f'AskPrice{i}'] * df[f'AskVolume{i}'] * (1 - (i - 1) / 4) for i in range(1, 5))\n",
    "df['amt_spread_tick4'] = np.where((df['w_bid_amt4'] + df['w_ask_amt4']) > 0, \n",
    "                             (df['w_bid_amt4'] - df['w_ask_amt4']) / (df['w_bid_amt4'] + df['w_ask_amt4']), \n",
    "                             0)"
   ]
  },
  {
   "cell_type": "code",
   "execution_count": 242,
   "metadata": {},
   "outputs": [],
   "source": [
    "# Vwap and distance\n",
    "df['tot_ask_amt'] = sum(df[f'AskPrice{i}'] * df[f'AskVolume{i}'] for i in range(1, 11))\n",
    "df['tot_bid_amt'] = sum(df[f'BidPrice{i}'] * df[f'BidVolume{i}'] for i in range(1, 11))\n",
    "\n",
    "# Vectorized total volumes\n",
    "df['total_bid_vol'] = df[[f'BidVolume{i}' for i in range(1, 11)]].sum(axis=1)\n",
    "df['total_ask_vol'] = df[[f'AskVolume{i}' for i in range(1, 11)]].sum(axis=1)\n",
    "\n",
    "# VWAP calculations using direct division\n",
    "df['ask_vwap'] = df['tot_ask_amt'] / df['total_ask_vol']\n",
    "df['bid_vwap'] = df['tot_bid_amt'] / df['total_bid_vol']\n",
    "\n",
    "# Distance from mid price with direct subtraction\n",
    "df['ask_dist'] = df['ask_vwap'] - df['MidPrice']\n",
    "df['bid_dist'] = df['MidPrice'] - df['bid_vwap']"
   ]
  },
  {
   "cell_type": "code",
   "execution_count": 243,
   "metadata": {},
   "outputs": [],
   "source": [
    "# Extra Features\n",
    "@nb.jit\n",
    "def get_age(prices):\n",
    "    last_value = prices[-1]\n",
    "    age = 0\n",
    "    for i in range(2, len(prices)):\n",
    "        if prices[-i] != last_value:\n",
    "            return age\n",
    "        age += 1\n",
    "    return age\n",
    "\n",
    "window_size = 60\n",
    "\n",
    "df['ask_age'] = df['AskPrice1'].rolling(window_size).apply(get_age, engine='numba', raw=True).fillna(0)\n",
    "df['bid_age'] = df['BidPrice1'].rolling(window_size).apply(get_age, engine='numba', raw=True).fillna(0)\n",
    "\n",
    "df['depth_price_range'] = (df['AskPrice1'].rolling(window_size).max() / df['AskPrice1'].rolling(window_size).min() - 1).fillna(0)\n"
   ]
  },
  {
   "cell_type": "code",
   "execution_count": 244,
   "metadata": {},
   "outputs": [],
   "source": [
    "df['Bid_Volume_top4'] = df['BidVolume1'] + df['BidVolume2'] + df['BidVolume3'] + df['BidVolume4']\n",
    "df['Ask_Volume_top4'] = df['AskVolume1'] + df['AskVolume2'] + df['AskVolume3'] + df['AskVolume4']\n",
    "df['Vol_Imbalance'] = (df['Bid_Volume_top4'] - df['Ask_Volume_top4']) / (df['Bid_Volume_top4'] + df['Ask_Volume_top4'])"
   ]
  },
  {
   "cell_type": "code",
   "execution_count": 245,
   "metadata": {},
   "outputs": [],
   "source": [
    "df['prev_bid_price'] = df['BidPrice1'].shift(1)\n",
    "df['prev_bid_vol'] = df['BidVolume1'].shift(1)\n",
    "df['prev_ask_price'] = df['AskPrice1'].shift(1)\n",
    "df['prev_ask_vol'] = df['AskVolume1'].shift(1)\n",
    "\n",
    "en_bid = np.where(df['BidPrice1'] == df['prev_bid_price'], \n",
    "                  df['BidVolume1'] - df['prev_bid_vol'], \n",
    "                  np.where(df['BidPrice1'] > df['prev_bid_price'], df['BidVolume1'], -df['prev_bid_vol']))\n",
    "\n",
    "en_ask = np.where(df['AskPrice1'] == df['prev_ask_price'], \n",
    "                  -(df['AskVolume1'] - df['prev_ask_vol']), \n",
    "                  np.where(df['AskPrice1'] < df['prev_ask_price'], -df['AskVolume1'], df['prev_ask_vol']))\n",
    "\n",
    "df['OFI'] = en_bid + en_ask\n",
    "\n",
    "df.drop(['prev_bid_price', 'prev_bid_vol', 'prev_ask_price', 'prev_ask_vol'], axis=1, inplace=True)"
   ]
  },
  {
   "cell_type": "code",
   "execution_count": 246,
   "metadata": {},
   "outputs": [],
   "source": [
    "window_size = 60\n",
    "a = df['BidVolume1'] * np.where(df['BidPrice1'].diff() > 0, 1, 0)\n",
    "b = df['BidVolume1'].shift() * np.where(df['BidPrice1'].diff() <= 0, 1, 0)\n",
    "c = df['AskVolume1'] * np.where(df['AskPrice1'].diff() <= 0, 1, 0)\n",
    "d = df['AskVolume1'].shift() * np.where(df['AskPrice1'].diff() >= 0, 1, 0)\n",
    "df['cofi'] = (a - b - c + d).fillna(0)"
   ]
  },
  {
   "cell_type": "code",
   "execution_count": 247,
   "metadata": {},
   "outputs": [],
   "source": [
    "df['bp_rank'] = (df['BidPrice1'].rolling(window_size).rank() / window_size * 2 - 1).fillna(0)\n",
    "df['ap_rank'] = (df['AskPrice1'].rolling(window_size).rank() / window_size * 2 - 1).fillna(0)"
   ]
  },
  {
   "cell_type": "code",
   "execution_count": 248,
   "metadata": {},
   "outputs": [],
   "source": [
    "n = 10\n",
    "ask_w = sum(df[f'AskPrice{i}'] * df[f'AskVolume{i}'] for i in range(1, n+1))\n",
    "bid_w = sum(df[f'BidPrice{i}'] * df[f'BidVolume{i}'] for i in range(1, n+1))\n",
    "ask_v = sum(df[f'AskVolume{i}'] for i in range(1, n+1))\n",
    "bid_v = sum(df[f'BidVolume{i}'] for i in range(1, n+1))\n",
    "ask_w /= ask_v\n",
    "bid_w /= bid_v\n",
    "df['price_impact'] = -(df['AskPrice1'] - ask_w)/df['AskPrice1'] - (df['BidPrice1'] - bid_w)/df['BidPrice1']"
   ]
  },
  {
   "cell_type": "code",
   "execution_count": 249,
   "metadata": {},
   "outputs": [],
   "source": [
    "n = 5\n",
    "bid_prices = [f'BidPrice{i}' for i in range(1, n+1)]\n",
    "ask_prices = [f'AskPrice{i}' for i in range(1, n+1)]\n",
    "prices = bid_prices + ask_prices\n",
    "df['depth_price_skew'] = df[prices].skew(axis=1)\n",
    "df['depth_price_kurt'] = df[prices].kurt(axis=1)\n"
   ]
  },
  {
   "cell_type": "code",
   "execution_count": 250,
   "metadata": {},
   "outputs": [],
   "source": [
    "window_size = 60\n",
    "df['rolling_return'] = (df['MidPrice'].diff(window_size) / df['MidPrice']).fillna(0)"
   ]
  },
  {
   "cell_type": "code",
   "execution_count": null,
   "metadata": {},
   "outputs": [],
   "source": []
  },
  {
   "cell_type": "code",
   "execution_count": 251,
   "metadata": {},
   "outputs": [],
   "source": [
    "for date, group in df.groupby(df.index.normalize()):\n",
    "    # Delete rows from the start of the day\n",
    "    df = df.drop(group.index[:10])\n",
    "\n",
    "    # Delete rows from the end of the day\n",
    "    df = df.drop(group.index[-10:])\n"
   ]
  },
  {
   "cell_type": "code",
   "execution_count": 252,
   "metadata": {},
   "outputs": [],
   "source": [
    "# pct_change = (df['MidPrice'].resample('3T').last().pct_change().shift(-1)).dropna()\n",
    "# pct_change.hist(bins=20)\n",
    "# avg_return = df['log_return'].resample('3T').mean().shift(-1).dropna()\n",
    "# avg_return.hist(bins=20)"
   ]
  },
  {
   "cell_type": "code",
   "execution_count": 253,
   "metadata": {},
   "outputs": [],
   "source": [
    "# # Resampled target variable\n",
    "\n",
    "# def cumulative_return(window):\n",
    "#     if len(window) < 2:\n",
    "#         return np.nan\n",
    "#     start_price = window.iloc[0]\n",
    "#     cumulative_pct_change = (window - start_price) / start_price\n",
    "#     return cumulative_pct_change.max(), cumulative_pct_change.min()\n",
    "\n",
    "# # Resample the data into 3-minute windows and apply the cumulative return function\n",
    "# cumulative_returns = df['MidPrice'].resample('T').apply(cumulative_return).dropna()\n",
    "\n",
    "# # Create a DataFrame from the results\n",
    "# windowed_returns = pd.DataFrame(cumulative_returns.tolist(), index=cumulative_returns.index, columns=['cum_max', 'cum_min'])\n",
    "\n",
    "# # Determine the condition and assign 1 or -1\n",
    "# result = (abs(windowed_returns['cum_max']) > abs(windowed_returns['cum_min'])).map(lambda x: 1 if x else -1).shift(-1).dropna()\n",
    "# result.hist()"
   ]
  },
  {
   "cell_type": "code",
   "execution_count": 254,
   "metadata": {},
   "outputs": [
    {
     "data": {
      "text/plain": [
       "<AxesSubplot:>"
      ]
     },
     "execution_count": 254,
     "metadata": {},
     "output_type": "execute_result"
    },
    {
     "data": {
      "image/png": "[encoded data removed]",
      "text/plain": [
       "<Figure size 432x288 with 1 Axes>"
      ]
     },
     "metadata": {
      "needs_background": "light"
     },
     "output_type": "display_data"
    }
   ],
   "source": [
    "# Function to calculate maximum cumulative return for a window\n",
    "def cumulative_return_max(window):\n",
    "    if len(window) < 2:\n",
    "        return np.nan\n",
    "    start_price = window[0]\n",
    "    cumulative_pct_change = (window - start_price) / start_price\n",
    "    return cumulative_pct_change.max()\n",
    "\n",
    "# Function to calculate minimum cumulative return for a window\n",
    "def cumulative_return_min(window):\n",
    "    if len(window) < 2:\n",
    "        return np.nan\n",
    "    start_price = window[0]\n",
    "    cumulative_pct_change = (window - start_price) / start_price\n",
    "    return cumulative_pct_change.min()\n",
    "\n",
    "# Define the window size\n",
    "window_size = 60  # Adjust this as needed\n",
    "\n",
    "# Apply the cumulative return functions to a rolling window\n",
    "cumulative_max = df['MidPrice'].rolling(window_size).apply(cumulative_return_max, raw=True).dropna()\n",
    "cumulative_min = df['MidPrice'].rolling(window_size).apply(cumulative_return_min, raw=True).dropna()\n",
    "\n",
    "# Create a DataFrame from the results\n",
    "windowed_returns = pd.DataFrame({'cum_max': cumulative_max, 'cum_min': cumulative_min})\n",
    "\n",
    "# Determine the condition and assign 1 or -1\n",
    "result = (abs(windowed_returns['cum_max']) > abs(windowed_returns['cum_min'])).map(lambda x: 1 if x else -1).shift(-30).dropna()\n",
    "result.hist()"
   ]
  },
  {
   "cell_type": "code",
   "execution_count": 255,
   "metadata": {},
   "outputs": [
    {
     "data": {
      "text/plain": [
       "<AxesSubplot:>"
      ]
     },
     "execution_count": 255,
     "metadata": {},
     "output_type": "execute_result"
    },
    {
     "data": {
      "image/png": "[encoded data removed]",
      "text/plain": [
       "<Figure size 432x288 with 1 Axes>"
      ]
     },
     "metadata": {
      "needs_background": "light"
     },
     "output_type": "display_data"
    }
   ],
   "source": [
    "# Create a new target variable with values 1, 0, -1 based on the condition\n",
    "# target = pd.Series(data=0, index=max_return.index)  # Initialize with 0\n",
    "# target[avg_return > 0.0015] = 1  # Set to 1 where pct_change > 0.0015\n",
    "# target[avg_return < -0.0015] = -1  # Set to -1 where pct_change < -0.0015\n",
    "# target[max_return >= 0] = 1\n",
    "\n",
    "# Plot the histogram\n",
    "target = result\n",
    "target.hist()"
   ]
  },
  {
   "cell_type": "code",
   "execution_count": 256,
   "metadata": {},
   "outputs": [],
   "source": [
    "# aggregation_rules = {\n",
    "#     col: 'mean' if 'BidPrice' in col or 'AskPrice' in col else 'sum'\n",
    "#     for col in df.columns if 'BidPrice' in col or 'AskPrice' in col or 'BidVolume' in col or 'AskVolume' in col\n",
    "# }\n",
    "\n",
    "# additional_rules = {\n",
    "#     'W_Mid_Price': 'mean',\n",
    "#     'Volume': 'sum',\n",
    "#     'log_return': 'sum',\n",
    "#     'return': 'sum',\n",
    "#     'lag3_ret': 'sum',\n",
    "#     'lag5_ret': 'sum',\n",
    "#     'lag10_ret': 'sum',\n",
    "#     'price_vs_mid': 'mean',\n",
    "#     'spread': 'mean',\n",
    "#     'positive_ratio': 'mean',\n",
    "#     'avg_distance_diff': 'mean',\n",
    "#     'amt_spread_tick': 'mean',\n",
    "#     'amt_spread_tick4': 'mean',\n",
    "#     'ask_dist': 'mean',\n",
    "#     'bid_dist': 'mean',\n",
    "#     'ask_age': 'last',\n",
    "#     'bid_age': 'last',\n",
    "#     'depth_price_range': 'mean',\n",
    "#     'Vol_Imbalance': 'mean',\n",
    "#     'OFI': 'sum',\n",
    "#     'cofi': 'sum',\n",
    "#     'bp_rank': 'last',\n",
    "#     'ap_rank': 'last',\n",
    "#     'price_impact': 'mean',\n",
    "#     'depth_price_skew': 'mean',\n",
    "#     'depth_price_kurt': 'mean',\n",
    "#     'rolling_return': 'last'\n",
    "# }\n",
    "\n",
    "# aggregation_rules.update(additional_rules)\n",
    "\n",
    "# default_aggregation = {col: 'mean' for col in df.columns if col not in aggregation_rules}\n",
    "\n",
    "# resampled_df = df.resample('1T').agg(aggregation_rules).dropna()"
   ]
  },
  {
   "cell_type": "code",
   "execution_count": 257,
   "metadata": {},
   "outputs": [],
   "source": [
    "# resampled_df.head(243)"
   ]
  },
  {
   "cell_type": "code",
   "execution_count": 258,
   "metadata": {},
   "outputs": [],
   "source": [
    "feature_selections = range(1, 11)\n",
    "bid_price_features = [f'BidPrice{i}' for i in feature_selections]\n",
    "bid_volume_features = [f'BidVolume{i}' for i in feature_selections]\n",
    "ask_price_features = [f'AskPrice{i}' for i in feature_selections]\n",
    "ask_volume_features = [f'AskVolume{i}' for i in feature_selections]\n",
    "\n",
    "# feature_col = ['W_Mid_Price', 'Volume', 'lag3_ret', 'lag5_ret', 'lag10_ret', 'return', 'price_vs_mid', 'spread', 'positive_ratio', 'avg_distance_diff', 'amt_spread_tick', 'amt_spread_tick4', 'ask_dist', 'bid_dist']\n",
    "feature_col = ['Volume', 'return', 'price_vs_mid', 'spread', 'positive_ratio', 'avg_distance_diff', 'amt_spread_tick', 'amt_spread_tick4', 'ask_dist', 'bid_dist', 'ask_age', 'bid_age', 'depth_price_range', 'Vol_Imbalance', 'OFI', 'bp_rank', 'ap_rank', 'price_impact', 'depth_price_skew', 'depth_price_kurt', 'rolling_return']\n",
    "\n",
    "\n",
    "# feature_col = feature_col + bid_price_features + bid_volume_features + ask_price_features + ask_volume_features\n",
    "\n",
    "features = df[feature_col]"
   ]
  },
  {
   "cell_type": "code",
   "execution_count": 259,
   "metadata": {},
   "outputs": [],
   "source": [
    "# features.to_csv('temp_feature_016.csv')"
   ]
  },
  {
   "cell_type": "code",
   "execution_count": 260,
   "metadata": {},
   "outputs": [],
   "source": [
    "X = features\n",
    "y = target\n",
    "X = X.loc[y.index]"
   ]
  },
  {
   "cell_type": "code",
   "execution_count": 261,
   "metadata": {},
   "outputs": [],
   "source": [
    "def symize(series):\n",
    "    res = pd.concat([series, -series])\n",
    "    res.index = pd.DatetimeIndex([i for i in series.index] + [i for i in series.index])\n",
    "    return res"
   ]
  },
  {
   "cell_type": "code",
   "execution_count": 262,
   "metadata": {},
   "outputs": [],
   "source": [
    "# sym_X = pd.DataFrame()\n",
    "# for col in X.columns:\n",
    "#     sym_X[col] = symize(X[col])\n",
    "\n",
    "# sym_X"
   ]
  },
  {
   "cell_type": "code",
   "execution_count": 263,
   "metadata": {},
   "outputs": [],
   "source": [
    "n_splits = 5\n",
    "tscv = TimeSeriesSplit(n_splits=n_splits)"
   ]
  },
  {
   "cell_type": "code",
   "execution_count": 264,
   "metadata": {},
   "outputs": [],
   "source": [
    "from sklearn.model_selection import train_test_split\n",
    "\n",
    "# Split the dataset into a training set (e.g., 80%) and a test set (e.g., 20%)\n",
    "#X_train_val, X_test, y_train_val, y_test = train_test_split(X, y, test_size=0.2, random_state=42)\n",
    "\n",
    "# Now, X_train and y_train contain your training data, and X_test and y_test contain your test data.\n",
    "\n",
    "\n",
    "X_train_val, X_test, y_train_val, y_test = train_test_split(X, y, test_size=0.2, random_state=42)\n",
    "\n",
    "# smote = SMOTE(random_state=42)\n",
    "# X_train_val, y_train_val = smote.fit_resample(X_train_val, y_train_val)\n",
    "\n",
    "# from tslearn.over_sampling import TimeSeriesSMOTE\n",
    "\n",
    "# # Instantiate the TimeSeriesSMOTE class\n",
    "# ts_smote = TimeSeriesSMOTE()\n",
    "\n",
    "# # Apply TS SMOTE to balance the dataset\n",
    "# X_train_val, y_train_val = ts_smote.fit_resample(X_train_val, y_train_val)\n",
    "\n",
    "# Now, X_resampled and y_resampled contain the balanced time series dataset\n",
    "\n"
   ]
  },
  {
   "cell_type": "code",
   "execution_count": 265,
   "metadata": {},
   "outputs": [
    {
     "name": "stdout",
     "output_type": "stream",
     "text": [
      "Best parameters for LightGBM: {'model__class_weight': {-1: 4.5, 1: 5.5}, 'model__learning_rate': 0.05, 'model__n_estimators': 200}\n",
      "Feature: ap_rank, Importance: 1919612.6343650818\n",
      "Feature: bp_rank, Importance: 611975.6810436249\n",
      "Feature: depth_price_range, Importance: 125331.85360717773\n",
      "Feature: amt_spread_tick4, Importance: 117718.39284515381\n",
      "Feature: positive_ratio, Importance: 86094.25297355652\n",
      "Feature: rolling_return, Importance: 77498.6466331482\n",
      "Feature: price_impact, Importance: 71256.52082061768\n",
      "Feature: ask_dist, Importance: 68319.92599487305\n",
      "Feature: amt_spread_tick, Importance: 64397.88987159729\n",
      "Feature: bid_age, Importance: 58691.521743774414\n",
      "Feature: price_vs_mid, Importance: 51150.15389060974\n",
      "Feature: depth_price_skew, Importance: 47228.24782180786\n",
      "Feature: bid_dist, Importance: 42264.71971130371\n",
      "Feature: ask_age, Importance: 42117.79183959961\n",
      "Feature: return, Importance: 35955.73396873474\n",
      "Feature: Vol_Imbalance, Importance: 32953.3070602417\n",
      "Feature: depth_price_kurt, Importance: 29896.726583480835\n",
      "Feature: avg_distance_diff, Importance: 25041.026496887207\n",
      "Feature: spread, Importance: 9369.59969329834\n",
      "Feature: OFI, Importance: 5003.347576141357\n",
      "Feature: Volume, Importance: 3468.6053047180176\n",
      "Accuracy for LightGBM (Train Set): 0.8260820402198873\n",
      "Classification Report for LightGBM (Train Set):\n",
      "              precision    recall  f1-score   support\n",
      "\n",
      "        -1.0       0.85      0.82      0.84     62190\n",
      "         1.0       0.80      0.83      0.81     52778\n",
      "\n",
      "    accuracy                           0.83    114968\n",
      "   macro avg       0.82      0.83      0.83    114968\n",
      "weighted avg       0.83      0.83      0.83    114968\n",
      "\n",
      "Accuracy for LightGBM (Test Set): 0.8150854121003375\n",
      "Classification Report for LightGBM (Test Set):\n",
      "              precision    recall  f1-score   support\n",
      "\n",
      "        -1.0       0.84      0.82      0.83     15555\n",
      "         1.0       0.79      0.82      0.80     13188\n",
      "\n",
      "    accuracy                           0.82     28743\n",
      "   macro avg       0.81      0.82      0.81     28743\n",
      "weighted avg       0.82      0.82      0.82     28743\n",
      "\n"
     ]
    }
   ],
   "source": [
    "import joblib\n",
    "\n",
    "# Define models and their respective hyperparameter grids\n",
    "model_params = {\n",
    "    'LightGBM': {\n",
    "        'model': lgb.LGBMClassifier(verbose=-1),\n",
    "        'param_grid': {\n",
    "            'model__n_estimators': [50, 100, 150, 200],\n",
    "            'model__learning_rate': [0.001, 0.01, 0.03, 0.05],\n",
    "            'model__class_weight': [{-1: 4.5, 1: 5.5}]\n",
    "        }\n",
    "    },\n",
    "    # 'RandomForest': {\n",
    "    #     'model': RandomForestClassifier(),\n",
    "    #     'param_grid': {\n",
    "    #         'model__n_estimators': [100, 200, 500, 1000],\n",
    "    #         'model__max_depth': [10, 20, 30]\n",
    "    #     }\n",
    "    # }\n",
    "    # Add other models and their parameter grids as needed\n",
    "}\n",
    "\n",
    "# X_train, X_val, y_train, y_val = train_test_split(X_train_val, y_train_val, test_size=0.2, random_state=42)\n",
    "\n",
    "    \n",
    "for model_name, model_info in model_params.items():\n",
    "    model = model_info['model']\n",
    "    param_grid = model_info['param_grid']\n",
    "\n",
    "    # Create a pipeline with scaling and the model\n",
    "    pipeline = Pipeline([\n",
    "        ('model', model)\n",
    "    ])\n",
    "\n",
    "\n",
    "    # Grid Search with TimeSeriesSplit\n",
    "    grid_search = GridSearchCV(pipeline, param_grid, cv=tscv, scoring='accuracy')\n",
    "    grid_search.fit(X_train_val, y_train_val)\n",
    "\n",
    "    # fitted_scaler = grid_search.best_estimator_.named_steps['scaler']\n",
    "\n",
    "    # Save the fitted scaler to a file\n",
    "    # scaler_filename = f\"{model_name}_scaler.joblib\"\n",
    "    # joblib.dump(fitted_scaler, scaler_filename)\n",
    "\n",
    "    # Best model and hyperparameters\n",
    "    best_model = grid_search.best_estimator_\n",
    "    best_params = grid_search.best_params_\n",
    "    print(f\"Best parameters for {model_name}: {best_params}\")\n",
    "\n",
    "    # Get feature importance\n",
    "    booster = best_model.named_steps['model'].booster_\n",
    "    feature_importance = booster.feature_importance(importance_type='gain')\n",
    "    # Get feature names from the original dataset\n",
    "    feature_name = X_train_val.columns\n",
    "\n",
    "    # Zip features and importances together and sort by importance\n",
    "    feature_importances = sorted(zip(feature_name, feature_importance), key=lambda x: x[1], reverse=True)\n",
    "\n",
    "    # Unzip features and importances\n",
    "    feature_name, feature_importance = zip(*feature_importances)\n",
    "\n",
    "    # Print feature importance\n",
    "    for feature, importance in zip(feature_name, feature_importance):\n",
    "        print(f\"Feature: {feature}, Importance: {importance}\")\n",
    "\n",
    "    # Save the best model to a file\n",
    "    model_filename = f\"{model_name}_{stockname}.joblib\"\n",
    "    joblib.dump(best_model, model_filename)\n",
    "\n",
    "    # X_train_val = fitted_scaler.transform(X_train_val)\n",
    "\n",
    "    y_pred_train = best_model.predict(X_train_val)\n",
    "    accuracy_train = accuracy_score(y_train_val, y_pred_train)\n",
    "    report_train = classification_report(y_train_val, y_pred_train)\n",
    "\n",
    "    print(f'Accuracy for {model_name} (Train Set): {accuracy_train}')\n",
    "    print(f'Classification Report for {model_name} (Train Set):\\n{report_train}')\n",
    "\n",
    "    # Evaluate on the test set\n",
    "    # X_test = fitted_scaler.transform(X_test)\n",
    "    y_pred_test = best_model.predict(X_test)\n",
    "    accuracy_test = accuracy_score(y_test, y_pred_test)\n",
    "    report_test = classification_report(y_test, y_pred_test)\n",
    "\n",
    "    print(f'Accuracy for {model_name} (Test Set): {accuracy_test}')\n",
    "    print(f'Classification Report for {model_name} (Test Set):\\n{report_test}')\n"
   ]
  },
  {
   "cell_type": "code",
   "execution_count": null,
   "metadata": {},
   "outputs": [],
   "source": []
  },
  {
   "cell_type": "code",
   "execution_count": null,
   "metadata": {},
   "outputs": [],
   "source": []
  }
 ],
 "metadata": {
  "kernelspec": {
   "display_name": "Python 3 (ipykernel)",
   "language": "python",
   "name": "python3"
  },
  "language_info": {
   "codemirror_mode": {
    "name": "ipython",
    "version": 3
   },
   "file_extension": ".py",
   "mimetype": "text/x-python",
   "name": "python",
   "nbconvert_exporter": "python",
   "pygments_lexer": "ipython3",
   "version": "3.9.13"
  }
 },
 "nbformat": 4,
 "nbformat_minor": 2
}
